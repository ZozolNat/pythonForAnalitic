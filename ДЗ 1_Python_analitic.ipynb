{
 "cells": [
  {
   "attachments": {},
   "cell_type": "markdown",
   "id": "df9fb4ce",
   "metadata": {},
   "source": [
    "## Условие 2\n",
    "### На складе лежат разные фрукты в разном количестве. Нужно написать функцию, которая на вход принимает любое количество названий фруктов и их количество, а возвращает общее количество фруктов на складе"
   ]
  },
  {
   "cell_type": "code",
   "execution_count": 2,
   "id": "3a6b2d85",
   "metadata": {},
   "outputs": [],
   "source": [
    "def count_total_fruits(**fruits):\n",
    "    total_count = 0\n",
    "    for fruit, count in fruits.items():\n",
    "        total_count += count\n",
    "    return total_count"
   ]
  },
  {
   "attachments": {},
   "cell_type": "markdown",
   "id": "c3eba21f",
   "metadata": {},
   "source": [
    "пример ниже"
   ]
  },
  {
   "cell_type": "code",
   "execution_count": 3,
   "id": "abea7206",
   "metadata": {},
   "outputs": [
    {
     "name": "stdout",
     "output_type": "stream",
     "text": [
      "23\n"
     ]
    }
   ],
   "source": [
    "print(count_total_fruits(apples=10, bananas=5, oranges=8))\n"
   ]
  },
  {
   "attachments": {},
   "cell_type": "markdown",
   "id": "37efb3b5",
   "metadata": {},
   "source": [
    "### Условие 3\n",
    "### Дан список с затратами на рекламу. Но в данных есть ошибки, некоторые затраты имеют отрицательную величину. Удалите такие значения из списка и посчитайте суммарные затраты [100, 125, -90, 345, 655, -1, 0, 200]. Используйте list comprehensions"
   ]
  },
  {
   "cell_type": "code",
   "execution_count": 7,
   "id": "425e6da4",
   "metadata": {},
   "outputs": [
    {
     "name": "stdout",
     "output_type": "stream",
     "text": [
      "Суммарные затраты: 1425\n"
     ]
    }
   ],
   "source": [
    "# используем list comprehensions\n",
    "ad_costs = [100, 125, -90, 345, 655, -1, 0, 200]\n",
    "\n",
    "# Удаление отрицательных значений\n",
    "positive_costs = [cost for cost in ad_costs if cost >= 0]\n",
    "\n",
    "# Подсчет суммарных затрат\n",
    "total_costs = sum(positive_costs)\n",
    "\n",
    "print(\"Суммарные затраты:\", total_costs)\n"
   ]
  },
  {
   "cell_type": "code",
   "execution_count": 6,
   "id": "5a36c21f",
   "metadata": {},
   "outputs": [
    {
     "name": "stdout",
     "output_type": "stream",
     "text": [
      "Суммарные затраты : 1425\n"
     ]
    }
   ],
   "source": [
    "# for me или можно сделать другим способ, как в лекции. приравнять отриц числа к нулю, вывести новый список и суммировать\n",
    "expenses = [100, 125, -90, 345, 655, -1, 0, 200]\n",
    "\n",
    "modified_expenses = [expense if expense >= 0 else 0 for expense in expenses]\n",
    "total_expenses = sum(modified_expenses)\n",
    "\n",
    "print(\"Суммарные затраты :\", total_expenses)\n"
   ]
  },
  {
   "attachments": {},
   "cell_type": "markdown",
   "id": "fc2f522a",
   "metadata": {},
   "source": [
    "## Условие 4\n",
    "### Даны два списка. Дата покупки ['2021-09-14', '2021-12-15', '2021-09-08', '2021-12-05', '2021-10-09', '2021-09-30', '2021-12-22', '2021-11-29', '2021-12-24', '2021-11-26', '2021-10-27', '2021-12-18', '2021-11-09', '2021-11-23', '2021-09-27', '2021-10-02', '2021-12-27', '2021-09-20', '2021-12-13', '2021-11-01', '2021-11-09', '2021-12-06', '2021-12-08', '2021-10-09', '2021-10-31', '2021-09-30', '2021-11-09', '2021-12-13', '2021-10-26', '2021-12-09'] Суммы покупок по датам [1270, 8413, 9028, 3703, 5739, 4095, 295, 4944, 5723, 3701, 4471, 651, 7037, 4274, 6275, 4988, 6930, 2971, 6592, 2004, 2822, 519, 3406, 2732, 5015, 2008, 316, 6333, 5700, 2887]\n",
    "\n"
   ]
  },
  {
   "attachments": {},
   "cell_type": "markdown",
   "id": "1594cb37",
   "metadata": {},
   "source": [
    "### 4.1 Найдите, какая выручка у компании в ноябре. Используйте list comprehensions"
   ]
  },
  {
   "cell_type": "code",
   "execution_count": 9,
   "id": "2e654481",
   "metadata": {},
   "outputs": [
    {
     "name": "stdout",
     "output_type": "stream",
     "text": [
      "Выручка в ноябре: 25098\n"
     ]
    }
   ],
   "source": [
    "purchase_dates = ['2021-09-14', '2021-12-15', '2021-09-08', '2021-12-05', '2021-10-09', '2021-09-30', '2021-12-22', '2021-11-29', '2021-12-24', '2021-11-26', '2021-10-27', '2021-12-18', '2021-11-09', '2021-11-23', '2021-09-27', '2021-10-02', '2021-12-27', '2021-09-20', '2021-12-13', '2021-11-01', '2021-11-09', '2021-12-06', '2021-12-08', '2021-10-09', '2021-10-31', '2021-09-30', '2021-11-09', '2021-12-13', '2021-10-26', '2021-12-09']\n",
    "purchase_amounts = [1270, 8413, 9028, 3703, 5739, 4095, 295, 4944, 5723, 3701, 4471, 651, 7037, 4274, 6275, 4988, 6930, 2971, 6592, 2004, 2822, 519, 3406, 2732, 5015, 2008, 316, 6333, 5700, 2887]\n",
    "#zip обьединяет, date.startswith применения условия, ну и sum\n",
    "november_sales = sum([amount for date, amount in zip(purchase_dates, purchase_amounts) if date.startswith('2021-11')])\n",
    "\n",
    "print(\"Выручка в ноябре:\", november_sales)\n"
   ]
  },
  {
   "attachments": {},
   "cell_type": "markdown",
   "id": "5297fbb4",
   "metadata": {},
   "source": [
    "### 4.2 Найдите выручку компании в зависимости от месяца Для этого напишите функцию, которая на вход принимает список с датами и список с выручкой, а на выходе словарь, где ключи - это месяцы, а значения - это выручка.\n",
    "Используйте аннотирование типов."
   ]
  },
  {
   "cell_type": "code",
   "execution_count": 10,
   "id": "c1e79498",
   "metadata": {},
   "outputs": [],
   "source": [
    "from typing import List, Dict\n",
    "\n",
    "def calculate_revenue_by_month(dates: List[str], revenue: List[int]) -> Dict[str, int]:\n",
    "    revenue_by_month = {}\n",
    "\n",
    "    for date, amount in zip(dates, revenue):\n",
    "        month = date.split('-')[1]\n",
    "        if month in revenue_by_month:\n",
    "            revenue_by_month[month] += amount\n",
    "        else:\n",
    "            revenue_by_month[month] = amount\n",
    "\n",
    "    return revenue_by_month\n"
   ]
  },
  {
   "cell_type": "code",
   "execution_count": 11,
   "id": "2d69a479",
   "metadata": {},
   "outputs": [
    {
     "name": "stdout",
     "output_type": "stream",
     "text": [
      "{'09': 25647, '12': 45452, '10': 28645, '11': 25098}\n"
     ]
    }
   ],
   "source": [
    "purchase_dates = ['2021-09-14', '2021-12-15', '2021-09-08', '2021-12-05', '2021-10-09', '2021-09-30', '2021-12-22', '2021-11-29', '2021-12-24', '2021-11-26', '2021-10-27', '2021-12-18', '2021-11-09', '2021-11-23', '2021-09-27', '2021-10-02', '2021-12-27', '2021-09-20', '2021-12-13', '2021-11-01', '2021-11-09', '2021-12-06', '2021-12-08', '2021-10-09', '2021-10-31', '2021-09-30', '2021-11-09', '2021-12-13', '2021-10-26', '2021-12-09']\n",
    "purchase_amounts = [1270, 8413, 9028, 3703, 5739, 4095, 295, 4944, 5723, 3701, 4471, 651, 7037, 4274, 6275, 4988, 6930, 2971, 6592, 2004, 2822, 519, 3406, 2732, 5015, 2008, 316, 6333, 5700, 2887]\n",
    "\n",
    "revenue_by_month = calculate_revenue_by_month(purchase_dates, purchase_amounts)\n",
    "print(revenue_by_month)\n"
   ]
  }
 ],
 "metadata": {
  "kernelspec": {
   "display_name": "Python 3",
   "language": "python",
   "name": "python3"
  },
  "language_info": {
   "codemirror_mode": {
    "name": "ipython",
    "version": 3
   },
   "file_extension": ".py",
   "mimetype": "text/x-python",
   "name": "python",
   "nbconvert_exporter": "python",
   "pygments_lexer": "ipython3",
   "version": "3.11.2"
  },
  "vscode": {
   "interpreter": {
    "hash": "9576395fb5535805bfa01568e8e825a24f17a50fb283f36c9e73d7feef88bb43"
   }
  }
 },
 "nbformat": 4,
 "nbformat_minor": 5
}
